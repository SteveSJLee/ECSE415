{
 "cells": [
  {
   "cell_type": "code",
   "execution_count": 2,
   "metadata": {
    "collapsed": true
   },
   "outputs": [],
   "source": [
    "import cv2\n",
    "import numpy as np\n",
    "\n",
    "class SB:\n",
    "    def __init__(self):\n",
    "        #self.img = img\n",
    "        self.sobelX = None\n",
    "        self.sobelY = None\n",
    "        self.sb = None\n",
    "\n",
    "    # use kernel to filter the input image\n",
    "    def kernel_filter (self, kernel):\n",
    "        height, width = self.img.shape\n",
    "        kernel_height, kernel_width = kernel.shape\n",
    "\n",
    "        img_pad = np.zeros(((height+2), (width+2)), np.float32)\n",
    "        img_pad[1:height+1, 1:width+1] = self.img\n",
    "\n",
    "        window = np.zeros((kernel_height, kernel_width), np.float32)\n",
    "        value = np.zeros((kernel_height, kernel_width), np.float32)\n",
    "        img_filter = np.zeros((height, width))\n",
    "\n",
    "        for row in range(1, height):\n",
    "            for col in range(1, width):\n",
    "                window = img_pad[(row - 1): (row + 2), (col - 1): (col + 2)]\n",
    "                value = window*kernel\n",
    "                img_filter[row-1, col-1] = int(value.sum())\n",
    "\n",
    "        return img_filter\n",
    "\n",
    "    def filter(self):\n",
    "        filterX = np.array([[1, 0, -1], [2, 0, -2], [1, 0, -1]])\n",
    "        filterY = np.array([[1, 2, 1], [0, 0, 0], [-1, -2, -1]])\n",
    "        filterG = np.array([(1, 2, 1), (2, 4, 2), (1, 2, 1)], np.float32)/16\n",
    "\n",
    "        self.sobelX = self.kernel_filter(filterX)\n",
    "        self.sobelY = self.kernel_filter(filterY)\n",
    "\n",
    "        sb = cv2.magnitude(self.sobelX, self.sobelY)\n",
    "        #(self.sobelX**2 + self.sobelY**2)**0.5\n",
    "        #self.sb = cv2.GaussianBlur(sb, (5,5), 0)\n",
    "\n",
    "    def threshold(self, th):\n",
    "        img_thr = np.copy(self.sb)\n",
    "        img_thr[img_thr >= th] = 0\n",
    "        img_thr[img_thr != 0] = 255\n",
    "\n",
    "        self.sb = img_thr\n",
    "\n",
    "    def sobel(self, img, th=100):\n",
    "        self.img = img\n",
    "        self.filter()\n",
    "        self.threshold(th)\n",
    "        return self.sb\n"
   ]
  },
  {
   "cell_type": "code",
   "execution_count": 3,
   "metadata": {},
   "outputs": [
    {
     "name": "stdout",
     "output_type": "stream",
     "text": [
      "254\n",
      "254\n"
     ]
    }
   ],
   "source": [
    "import numpy as np\n",
    "import cv2\n",
    "import matplotlib.pyplot as plt\n",
    "import os\n",
    "from openpyxl import load_workbook\n",
    "\n",
    "#import all images in the data set\n",
    "wb = load_workbook('../labels.xlsx')\n",
    "ws = wb.active\n",
    "\n",
    "images=[]\n",
    "labels = []\n",
    "count = 2\n",
    "path='../Faces'\n",
    "for root,dirs,files in os.walk(path):\n",
    "    for image in files:\n",
    "        if image.endswith((\".jpg\")):\n",
    "            img = cv2.imread(root + \"/\" + image, 0)\n",
    "            img = cv2.resize(img,(150,200))\n",
    "            images.append(img)\n",
    "            labels.append(ws.cell(row=count, column = 3).value)\n",
    "            count += 1\n",
    "            \n",
    "print(len(images))\n",
    "print(len(labels))"
   ]
  },
  {
   "cell_type": "code",
   "execution_count": 7,
   "metadata": {},
   "outputs": [
    {
     "name": "stdout",
     "output_type": "stream",
     "text": [
      "1\n",
      "1\n",
      "1\n",
      "1\n",
      "1\n"
     ]
    }
   ],
   "source": [
    "sb = SB()\n",
    "sobel_img = []\n",
    "\n",
    "for img in images[-5:]:\n",
    "    print('1')\n",
    "    sobel_img.append(sb.sobel(img))"
   ]
  },
  {
   "cell_type": "code",
   "execution_count": 8,
   "metadata": {},
   "outputs": [],
   "source": []
  },
  {
   "cell_type": "code",
   "execution_count": null,
   "metadata": {
    "collapsed": true
   },
   "outputs": [],
   "source": []
  },
  {
   "cell_type": "code",
   "execution_count": null,
   "metadata": {
    "collapsed": true
   },
   "outputs": [],
   "source": [
    "# Function used to calculate wrinkle density as per instructions\n",
    "def wrinkle_density(img, threshold):\n",
    "    Wa = np.sum(img >= threshold)\n",
    "    Pa = img.shape[0] * img.shape[1]\n",
    "    result = Wa/Pa\n",
    "    return result\n",
    "\n",
    "# Function used to calculate wrinkle depth as per instructions\n",
    "def wrinkle_depth(img, threshold):\n",
    "    Wa = img[img >= threshold]\n",
    "    M = np.sum(Wa)\n",
    "    result = M / (255*len(Wa))\n",
    "    return result\n",
    "\n",
    "\n",
    "# Function used to calculate average skin variance as per instructions\n",
    "def avg_skin_variance(img):\n",
    "    M = np.sum(img)\n",
    "    Pa = img.shape[0] * img.shape[1]\n",
    "    result = M / (255*Pa) \n",
    "    return result\n",
    "\n",
    "\n",
    "# Function used to calculate the wrinkle features for the 5 different parts of the face: forehead, left eye, right eye, left cheek, right cheek\n",
    "def wrinkle_features(img, threshold, eyes, left_eye, right_eye, mouth): \n",
    "    corner_left_eye = {}\n",
    "    corner_right_eye = {}\n",
    "    forehead = {}\n",
    "    cheek_left = {}\n",
    "    cheek_right = {}\n",
    "\n",
    "    #Apply sobel to get wrinkled image\n",
    "    sb = SB()\n",
    "    wrinkled = sb.sobel(img)\n",
    "\n",
    "\n",
    "    #Define the sections for each part of the face and calculate their wringle features \n",
    "    left_patch = left_eye[0] - max(left_eye[2], right_eye[2])//4\n",
    "    right_patch = left_eye[0]\n",
    "    top_patch = left_eye[1]\n",
    "    bottom_patch = left_eye[1] + left_eye[3]\n",
    "    window = wrinkled[top_patch:bottom_patch, left_patch:right_patch]\n",
    "    corner_left_eye['density'] = wrinkle_density(window, threshold)\n",
    "    corner_left_eye['depth'] = wrinkle_depth(window, threshold)\n",
    "    corner_left_eye['variance'] = avg_skin_variance(window)\n",
    "\n",
    "\n",
    "    left_patch = right_eye[0] + right_eye[2]\n",
    "    right_patch = left_patch + max(left_eye[2], right_eye[2])//4\n",
    "    top_patch = right_eye[1]\n",
    "    bottom_patch = right_eye[1] + right_eye[3]\n",
    "    window = wrinkled[top_patch:bottom_patch, left_patch:right_patch]\n",
    "    corner_right_eye['density'] = wrinkle_density(window, threshold)\n",
    "    corner_right_eye['depth'] = wrinkle_depth(window, threshold)\n",
    "    corner_right_eye['variance'] = avg_skin_variance(window)\n",
    "\n",
    "    left_for = mouth[0]\n",
    "    right_for = mouth[0] + mouth[2]\n",
    "    top_for = bottom_for - max(mouth[0]-left_eye[0], \n",
    "            right_eye[1]+right_eye[2]-mouth[0]-mouth[2])\n",
    "    bottom_for = eyes - max(left_eye[3], right_eye[3]) \n",
    "    window = wrinkled[top_for:bottom_for, left_for:right_for]\n",
    "    forehead['density'] = wrinkle_density(window, threshold)\n",
    "    forehead['depth'] = wrinkle_depth(window, threshold)\n",
    "    forehead['variance'] = avg_skin_variance(window)\n",
    "\n",
    "\n",
    "    left_cheek_left = left_eye[0]\n",
    "    left_cheek_right = left_cheek_left + (mouth[0] - left_eye[0])\n",
    "    left_cheek_top = eyes + min(left_eye[3], right_eye[3])//4\n",
    "    left_cheek_bottom = mouth[1]\n",
    "    window = wrinkled[left_cheek_top:left_cheek_bottom, left_cheek_left:left_cheek_right]\n",
    "    cheek_left['density'] = wrinkle_density(window, threshold)\n",
    "    cheek_left['depth'] = wrinkle_depth(window, threshold)\n",
    "    cheek_left['variance'] = avg_skin_variance(window)\n",
    "\n",
    "\n",
    "    right_cheek_left = rb - (right_eye[0]+right_eye[2]-mouth[0]-mouth[2])\n",
    "    right_cheek_right = right_eye[0] + right_eye[2]\n",
    "    right_cheek_top = eyes + min(left_eye[3], right_eye[3])//4\n",
    "    right_cheek_bottom = mouth[1]\n",
    "    window = wrinkled[right_cheek_top:right_cheek_bottom, right_cheek_left:right_cheek_right]\n",
    "    cheek_right['density'] = wrinkle_density(window, threshold)\n",
    "    cheek_right['depth'] = wrinkle_depth(window, threshold)\n",
    "    cheek_right['variance'] = avg_skin_variance(window)\n",
    "\n",
    "    return corner_left_eye, corner_right_eye, forehead, cheek_left, cheek_right"
   ]
  },
  {
   "cell_type": "code",
   "execution_count": null,
   "metadata": {
    "collapsed": true
   },
   "outputs": [],
   "source": [
    "def geometric_feature(img, eyes, left_eye, right_eye, nose_pos, mouth_pos):\n",
    "    # first geometric feature\n",
    "    D_em = mouth_pos - eyes\n",
    "    D_ee = (right_eye[0]+right_eye[2]//2) - (left_eye[0]+left_eye[2]//2)\n",
    "    R_em = D_em / D_ee\n",
    "    # second geometric feature\n",
    "    D_en = nose_pos - eye_pos\n",
    "    D_nm = mouth_pos - nose_pos\n",
    "    R_enm = D_en / D_nm\n",
    "    return R_em, R_enm"
   ]
  },
  {
   "cell_type": "code",
   "execution_count": null,
   "metadata": {
    "collapsed": true
   },
   "outputs": [],
   "source": [
    "def feature_extraction(img, eyes, left_eye, right_eye, nose_pos, mouth_pos, mouth, threshold):\n",
    "    \"\"\" Extract wrinkle and geometric features from input image.\n",
    "    \n",
    "    @param  img:    input image\n",
    "    @param  eye_pos:    position of eyes' center\n",
    "    @param  left_eye:   bounding box of left eye in original image\n",
    "    @param  right_eye:  bounding box of right eye in original image\n",
    "    @param  nose_pos:   position of nose\n",
    "    @param  mouth_pos:  position of mouth\n",
    "    @param  mouth_area: bounding box of mouth\n",
    "    @param  wrinkle_thres:  threshold to consider a pixel a wrinkle\n",
    "    @return wrinkles:   list of dictionaries storing wrinkle features for\n",
    "            forehead, left/right eye corner, left/right cheek\n",
    "    @return R_em, R_enm:    geometric features\n",
    "    \"\"\"\n",
    "    wrinkles = wrinkles_features(img, threshold, eyes, left_eye, right_eye, mouth)\n",
    "\n",
    "    R_em, R_enm  = geometric_feature(img, eyes, left_eye, right_eye, nose_pos, mouth_pos)\n",
    "    return wrinkles, R_em, R_enm\n"
   ]
  }
 ],
 "metadata": {
  "kernelspec": {
   "display_name": "Python 3",
   "language": "python",
   "name": "python3"
  },
  "language_info": {
   "codemirror_mode": {
    "name": "ipython",
    "version": 3
   },
   "file_extension": ".py",
   "mimetype": "text/x-python",
   "name": "python",
   "nbconvert_exporter": "python",
   "pygments_lexer": "ipython3",
   "version": "3.6.1"
  }
 },
 "nbformat": 4,
 "nbformat_minor": 2
}
